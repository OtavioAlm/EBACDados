{
  "nbformat": 4,
  "nbformat_minor": 0,
  "metadata": {
    "colab": {
      "provenance": [],
      "authorship_tag": "ABX9TyMBJ902u5klGKzOzrqsDi3b",
      "include_colab_link": true
    },
    "kernelspec": {
      "name": "python3",
      "display_name": "Python 3"
    },
    "language_info": {
      "name": "python"
    }
  },
  "cells": [
    {
      "cell_type": "markdown",
      "metadata": {
        "id": "view-in-github",
        "colab_type": "text"
      },
      "source": [
        "<a href=\"https://colab.research.google.com/github/OtavioAlm/EBACDados/blob/main/desafiopython.ipynb\" target=\"_parent\"><img src=\"https://colab.research.google.com/assets/colab-badge.svg\" alt=\"Open In Colab\"/></a>"
      ]
    },
    {
      "cell_type": "code",
      "source": [
        "def total_investido():\n",
        "  qtdd_cds = int(input('Quantos CDs foram comprados? '))\n",
        "  valor_total = 0\n",
        "  for i in range(qtdd_cds):\n",
        "    valor_total += float(input(f'Qual valor do CD {i+1}: $ '))\n",
        "    valor_medio = valor_total / qtdd_cds\n",
        "  return valor_total, valor_medio\n",
        "valor_total, valor_medio = total_investido()\n",
        "print('Total investido: $', valor_total)\n",
        "print('Valor médio em cada cd: $', valor_medio)"
      ],
      "metadata": {
        "colab": {
          "base_uri": "https://localhost:8080/"
        },
        "id": "Ds_PDTerGfQG",
        "outputId": "ed019a8c-321d-4804-a606-604bb85de08c"
      },
      "execution_count": 9,
      "outputs": [
        {
          "output_type": "stream",
          "name": "stdout",
          "text": [
            "Quantos CDs foram comprados? 2\n",
            "Qual valor do CD 1: $ 5\n",
            "Qual valor do CD 2: $ 6\n",
            "Total investido: $ 11.0\n",
            "Valor médio em cada cd: $ 5.5\n"
          ]
        }
      ]
    }
  ]
}